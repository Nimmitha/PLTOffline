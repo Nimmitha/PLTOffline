{
 "cells": [
  {
   "cell_type": "code",
   "execution_count": 1,
   "metadata": {},
   "outputs": [
    {
     "name": "stdout",
     "output_type": "stream",
     "text": [
      "Welcome to JupyROOT 6.26/10\n"
     ]
    }
   ],
   "source": [
    "from scripts.utilities import pltTimestamps, FEDtoReadOut\n",
    "from scripts.plotting import plot_table, plot_box\n",
    "from scripts.calcF_timeBased import get_bckg_frac"
   ]
  },
  {
   "cell_type": "code",
   "execution_count": 2,
   "metadata": {},
   "outputs": [],
   "source": [
    "import math\n",
    "import os\n",
    "import pathlib\n",
    "import sys\n",
    "import argparse\n",
    "import subprocess\n",
    "from glob import glob\n",
    "import pandas as pd"
   ]
  },
  {
   "cell_type": "code",
   "execution_count": 3,
   "metadata": {},
   "outputs": [],
   "source": [
    "HOSTNAME = os.uname()[1]\n",
    "if HOSTNAME == \"DELLNK\":\n",
    "    sys.path.insert(0, '/home/nimmitha/utils')\n",
    "elif \"lxplus\" in HOSTNAME or \"scx5-c2f06-36\" in HOSTNAME:\n",
    "    sys.path.insert(0, '/afs/cern.ch/user/n/nkarunar/utils')\n",
    "else:\n",
    "    print(\"Hostname not recognized. Exiting.\")\n",
    "    sys.exit()\n",
    "from nf import post_to_slack"
   ]
  },
  {
   "cell_type": "code",
   "execution_count": 4,
   "metadata": {},
   "outputs": [],
   "source": [
    "PLT_PATH = os.getcwd().split(\"PLTOffline\")[0] + \"PLTOffline/\"\n",
    "FILE_PATH = \"/home/nkarunar/track_root_files/\"\n",
    "FILE_EXT = \".root\""
   ]
  },
  {
   "cell_type": "code",
   "execution_count": 6,
   "metadata": {},
   "outputs": [],
   "source": [
    "sys.argv = ['--list', '8730', '8741', '9050', '9059', '9070', '9072']\n",
    "           # 8739 8741 9059 9070 9072']\n",
    "parser = argparse.ArgumentParser(description='Calculate background fraction')\n",
    "parser.add_argument('--list', nargs='+', type=int, help='List of fills to run on')\n",
    "args = parser.parse_args(sys.argv)"
   ]
  },
  {
   "cell_type": "code",
   "execution_count": 7,
   "metadata": {},
   "outputs": [],
   "source": [
    "channels = [i for i in range(0, 16)]\n",
    "# drop channel 6\n",
    "channels.remove(6)"
   ]
  },
  {
   "cell_type": "code",
   "execution_count": 8,
   "metadata": {},
   "outputs": [],
   "source": [
    "def get_inst_luminosity(df_row):\n",
    "\n",
    "    def parseDateBrilcalc(x): return pd.to_datetime(x, format='%m/%d/%y %H:%M:%S')\n",
    "\n",
    "    fill = str(df_row.name)\n",
    "    fName = str(fill)\n",
    "    tempLumifPath = \"temp/\" + fName + \"tempLumi.csv\"\n",
    "    print(f\"Running brilcalc for {fill}\")\n",
    "\n",
    "    hh, mm = df_row['start'].strftime(\"%H:%M\").split(\":\")\n",
    "    StartTime = str(3600 * int(hh) + 60 * int(mm))\n",
    "\n",
    "    hh, mm = df_row['end'].strftime(\"%H:%M\").split(\":\")\n",
    "    EndTime = str(3600 * int(hh) + 60 * int(mm))\n",
    "\n",
    "    cmd_brilcalc = [\"brilcalc\", \"lumi\", \"--begin\", \"mm/dd/yy hh:mm:ss\", \"--end\",\n",
    "                    \"mm/dd/yy hh:mm:ss\", \"--byls\", \"-u\", \"hz/ub\", \"--type\", \"PLTZERO\", \"-o\", tempLumifPath]\n",
    "\n",
    "    cmd_brilcalc[3] = df_row['start'].strftime(\"%m/%d/%y %H:%M:%S\")\n",
    "    cmd_brilcalc[5] = df_row['end'].strftime(\"%m/%d/%y %H:%M:%S\")\n",
    "\n",
    "    # print(cmd_brilcalc)\n",
    "    x = subprocess.run(cmd_brilcalc)\n",
    "    print(x)\n",
    "\n",
    "    df_lumi = pd.read_csv(tempLumifPath, comment=\"#\", header=None, names=[\n",
    "        \"fill\", \"ls\", \"time\", \"status\", \"E\", \"del\", \"rec\", \"avgpu\", \"source\"], parse_dates=[\"time\"], date_parser=parseDateBrilcalc)\n",
    "    # print(df_lumi.head())\n",
    "\n",
    "    StartTime = df_row['start']\n",
    "    EndTime = df_row['end']\n",
    "    step = pd.Timedelta(seconds=df_row['duration'])\n",
    "\n",
    "    t1 = StartTime\n",
    "    h_max = int((EndTime - StartTime) / step)\n",
    "\n",
    "    lumiLogfPath = \"logs/\" + fName + \"Lumi.csv\"\n",
    "    lumiLogFile = open(lumiLogfPath, 'w')\n",
    "    lumiLogFile.write(\"fill,h,t1,t2,mean_lumi,mean_sbil\\n\")\n",
    "\n",
    "    collidingBunches = 1\n",
    "\n",
    "    for i in range(h_max):\n",
    "        t1 = StartTime + i * step\n",
    "        t2 = StartTime + (i + 1) * step\n",
    "\n",
    "        mean_lumi = df_lumi[(df_lumi[\"time\"] > t1) & (\n",
    "            df_lumi[\"time\"] <= t2)][\"del\"].mean()\n",
    "        mean_sbil = mean_lumi / collidingBunches\n",
    "\n",
    "        t1_save = t1.strftime('%s')\n",
    "        t2_save = int(t2.strftime('%s')) - 1\n",
    "\n",
    "        lineToWrite = fill + \",\" + str(i) + \",\" + str(t1_save) + \",\" + str(\n",
    "            t2_save) + \",\" + str(mean_lumi) + \",\" + str(mean_sbil) + \"\\n\"\n",
    "        lumiLogFile.write(lineToWrite)\n",
    "\n",
    "def run_fit_scripts(df_row):\n",
    "    fill = str(df_row.name)\n",
    "    print(f\"Running bkg calculation for {fill}\")\n",
    "\n",
    "    StartTime = (int(df_row['start'].strftime(\"%s\")) + 0 * 3600)\n",
    "    EndTime = (int(df_row['end'].strftime(\"%s\")) + 0 * 3600)\n",
    "    step = (df_row['duration'])\n",
    "\n",
    "    get_bckg_frac(fill, StartTime, EndTime, step, channels)\n",
    "\n",
    "\n",
    "def add_timestamps_to_fills(pltTS, df):\n",
    "    start_stable = []\n",
    "    end_stable = []\n",
    "    for index in df.index:\n",
    "        start_date = pltTS.loc[index, \"start_stable_beam\"]\n",
    "        end_date = pltTS.loc[index, \"end_stable_beam\"]\n",
    "\n",
    "        start_stable.append((start_date + pd.Timedelta(minutes=5)).round(freq=\"5T\"))\n",
    "        end_stable.append((end_date - pd.Timedelta(minutes=5)).round(freq=\"5T\"))\n",
    "\n",
    "    df[\"start\"] = start_stable\n",
    "    df[\"end\"] = end_stable\n",
    "\n",
    "    df = df[['start', 'end', 'duration']]\n",
    "\n",
    "    return df\n",
    "\n",
    "def generate_missing_fills(pltTS):\n",
    "    \"\"\"\n",
    "    Check the results folder and compare it with the decoded fills\n",
    "    If there are newly decoded fills, create a list of them.\n",
    "    This can also exclude some fills from the list\n",
    "    \"\"\"\n",
    "    result_files = glob(os.path.join(PLT_PATH, 'BackgroundFraction/results', '????.csv'))\n",
    "    result_files = [int(pathlib.Path(file).stem) for file in result_files]\n",
    "    # print(result_files)\n",
    "    decoded_files = glob(os.path.join(FILE_PATH, '????.root'))\n",
    "    decoded_files = [int(pathlib.Path(file).stem) for file in decoded_files]\n",
    "    # print(decoded_files)\n",
    "\n",
    "    # Excluded fills\n",
    "    excluded = [8178, 8225, 8381, 8385, 8999, 8957]\n",
    "    missing_results = [fill for fill in decoded_files if fill not in result_files and fill not in excluded]\n",
    "\n",
    "    return missing_results\n",
    "\n",
    "def get_fill_df(args):\n",
    "    pltTS = pltTimestamps(PLT_PATH)\n",
    "\n",
    "    if args.list:\n",
    "        fills_to_run = args.list\n",
    "    else:\n",
    "        fills_to_run = generate_missing_fills(pltTS)\n",
    "\n",
    "    # print(fills_to_run)\n",
    "    post_to_slack(message_text=f'Bkg will work on: {fills_to_run}')\n",
    "\n",
    "    # Create a csv file with flls to run\n",
    "    df = pd.DataFrame(columns=['start', 'end', 'duration'], index=fills_to_run)\n",
    "    df.index.name = 'fill'\n",
    "\n",
    "    df.duration = 300\n",
    "    df = add_timestamps_to_fills(pltTS, df)\n",
    "\n",
    "    df.to_csv(\"input_fills.csv\", encoding='utf-8', header=True)\n",
    "    return df\n",
    "\n",
    "\n",
    "def combineLogs(df_row):\n",
    "    \n",
    "    def getCB(fill):\n",
    "        df = pd.read_csv('https://delannoy.web.cern.ch/fills.csv')\n",
    "        CB = int(df[(df['oms_fill_number'] == fill) & (df['oms_stable_beams']==True)]['oms_bunches_colliding'])\n",
    "        return CB\n",
    "\n",
    "\n",
    "    fill = str(df_row.name)\n",
    "    CB = getCB(int(fill))\n",
    "    fName = str(fill)\n",
    "    lumiLogPath = \"logs/\" + fName + \"Lumi.csv\"\n",
    "    fLogPath = \"logs/\" + fName + \"F.csv\"\n",
    "    resultPath = \"output/results/\" + fName + \".csv\"\n",
    "    print(f\"Combining logs for {fill}\")\n",
    "\n",
    "    # Read luminosity and Background Fraction logs\n",
    "    lumi_df = pd.read_csv(lumiLogPath, index_col=\"h\")\n",
    "    f_df = pd.read_csv(fLogPath, index_col=\"h\")\n",
    "\n",
    "    if lumi_df.shape[0]*len(channels) != f_df.shape[0]:\n",
    "        print(\"Lengths do not match\")\n",
    "        return\n",
    "\n",
    "    result = pd.merge(lumi_df, f_df)\n",
    "    # result[\"fSlopeY(%)\"] = result.apply(lambda x: x.bkg_frac * 100, axis=1)\n",
    "    # result[\"fSlopeY_e(%)\"] = result.apply(lambda x: x.bkg_frac_e * 100, axis=1)\n",
    "    # result[\"fR(%)\"] = result.apply(lambda x: 100 * (x.ntracks_time - x.ntracks_resi) / x.ntracks_time, axis=1)\n",
    "    # result[\"fR_e(%)\"] = result.apply(lambda x: 100 * math.sqrt(x.ntracks_time - x.ntracks_resi) / x.ntracks_time, axis=1)\n",
    "    result[\"mean_sbil\"] = result.apply(lambda x: x.mean_sbil / CB, axis=1)\n",
    "    result.to_csv(resultPath, encoding='utf-8', index=False)\n",
    "\n"
   ]
  },
  {
   "cell_type": "code",
   "execution_count": 9,
   "metadata": {},
   "outputs": [
    {
     "name": "stdout",
     "output_type": "stream",
     "text": [
      "                   start                 end  duration\n",
      "fill                                                  \n",
      "8730 2023-05-07 07:30:00 2023-05-07 18:35:00       300\n",
      "8741 2023-05-10 19:30:00 2023-05-11 02:55:00       300\n",
      "9050 2023-07-10 12:35:00 2023-07-10 18:05:00       300\n",
      "9059 2023-07-12 00:00:00 2023-07-12 01:55:00       300\n",
      "9070 2023-07-15 17:25:00 2023-07-16 04:50:00       300\n",
      "9072 2023-07-16 08:05:00 2023-07-16 20:25:00       300\n"
     ]
    }
   ],
   "source": [
    "pltTS = pltTimestamps(PLT_PATH)\n",
    "fills_to_run = get_fill_df(args)\n",
    "print(fills_to_run)"
   ]
  },
  {
   "cell_type": "code",
   "execution_count": 10,
   "metadata": {},
   "outputs": [
    {
     "name": "stdout",
     "output_type": "stream",
     "text": [
      "Begin bkg calc 8730\n",
      "Running bkg calculation for 8730\n",
      "Processing 8730 from 1683437400 to 1683477300\n"
     ]
    },
    {
     "name": "stderr",
     "output_type": "stream",
     "text": [
      "100%|██████████| 133/133 [01:53<00:00,  1.18it/s]\n"
     ]
    },
    {
     "name": "stdout",
     "output_type": "stream",
     "text": [
      "Running brilcalc for 8730\n",
      "CompletedProcess(args=['brilcalc', 'lumi', '--begin', '05/07/23 07:30:00', '--end', '05/07/23 18:35:00', '--byls', '-u', 'hz/ub', '--type', 'PLTZERO', '-o', 'temp/8730tempLumi.csv'], returncode=0)\n",
      "Combining logs for 8730\n",
      "Begin bkg calc 8741\n",
      "Running bkg calculation for 8741\n",
      "Processing 8741 from 1683739800 to 1683766500\n"
     ]
    },
    {
     "name": "stderr",
     "output_type": "stream",
     "text": [
      "100%|██████████| 89/89 [02:06<00:00,  1.42s/it]\n"
     ]
    },
    {
     "name": "stdout",
     "output_type": "stream",
     "text": [
      "Running brilcalc for 8741\n",
      "CompletedProcess(args=['brilcalc', 'lumi', '--begin', '05/10/23 19:30:00', '--end', '05/11/23 02:55:00', '--byls', '-u', 'hz/ub', '--type', 'PLTZERO', '-o', 'temp/8741tempLumi.csv'], returncode=0)\n",
      "Combining logs for 8741\n",
      "Begin bkg calc 9050\n",
      "Running bkg calculation for 9050\n",
      "Processing 9050 from 1688985300 to 1689005100\n"
     ]
    },
    {
     "name": "stderr",
     "output_type": "stream",
     "text": [
      "100%|██████████| 66/66 [02:01<00:00,  1.84s/it]\n"
     ]
    },
    {
     "name": "stdout",
     "output_type": "stream",
     "text": [
      "Running brilcalc for 9050\n",
      "CompletedProcess(args=['brilcalc', 'lumi', '--begin', '07/10/23 12:35:00', '--end', '07/10/23 18:05:00', '--byls', '-u', 'hz/ub', '--type', 'PLTZERO', '-o', 'temp/9050tempLumi.csv'], returncode=0)\n",
      "Combining logs for 9050\n",
      "Begin bkg calc 9059\n",
      "Running bkg calculation for 9059\n",
      "Processing 9059 from 1689112800 to 1689119700\n"
     ]
    },
    {
     "name": "stderr",
     "output_type": "stream",
     "text": [
      "100%|██████████| 23/23 [00:44<00:00,  1.94s/it]\n"
     ]
    },
    {
     "name": "stdout",
     "output_type": "stream",
     "text": [
      "Running brilcalc for 9059\n",
      "CompletedProcess(args=['brilcalc', 'lumi', '--begin', '07/12/23 00:00:00', '--end', '07/12/23 01:55:00', '--byls', '-u', 'hz/ub', '--type', 'PLTZERO', '-o', 'temp/9059tempLumi.csv'], returncode=0)\n",
      "Combining logs for 9059\n",
      "Begin bkg calc 9070\n",
      "Running bkg calculation for 9070\n",
      "Processing 9070 from 1689434700 to 1689475800\n"
     ]
    },
    {
     "name": "stderr",
     "output_type": "stream",
     "text": [
      "100%|██████████| 137/137 [04:13<00:00,  1.85s/it]\n"
     ]
    },
    {
     "name": "stdout",
     "output_type": "stream",
     "text": [
      "Running brilcalc for 9070\n",
      "CompletedProcess(args=['brilcalc', 'lumi', '--begin', '07/15/23 17:25:00', '--end', '07/16/23 04:50:00', '--byls', '-u', 'hz/ub', '--type', 'PLTZERO', '-o', 'temp/9070tempLumi.csv'], returncode=0)\n",
      "Combining logs for 9070\n",
      "Begin bkg calc 9072\n",
      "Running bkg calculation for 9072\n",
      "Processing 9072 from 1689487500 to 1689531900\n"
     ]
    },
    {
     "name": "stderr",
     "output_type": "stream",
     "text": [
      "100%|██████████| 148/148 [04:32<00:00,  1.84s/it]\n"
     ]
    },
    {
     "name": "stdout",
     "output_type": "stream",
     "text": [
      "Running brilcalc for 9072\n",
      "CompletedProcess(args=['brilcalc', 'lumi', '--begin', '07/16/23 08:05:00', '--end', '07/16/23 20:25:00', '--byls', '-u', 'hz/ub', '--type', 'PLTZERO', '-o', 'temp/9072tempLumi.csv'], returncode=0)\n",
      "Combining logs for 9072\n"
     ]
    }
   ],
   "source": [
    "for fill, row in fills_to_run.iterrows():\n",
    "    print(f\"Begin bkg calc {fill}\")\n",
    "\n",
    "    run_fit_scripts(row)\n",
    "    get_inst_luminosity(row)\n",
    "    combineLogs(row)\n",
    "    # pass"
   ]
  },
  {
   "cell_type": "code",
   "execution_count": null,
   "metadata": {},
   "outputs": [],
   "source": []
  }
 ],
 "metadata": {
  "kernelspec": {
   "display_name": "work",
   "language": "python",
   "name": "python3"
  },
  "language_info": {
   "codemirror_mode": {
    "name": "ipython",
    "version": 3
   },
   "file_extension": ".py",
   "mimetype": "text/x-python",
   "name": "python",
   "nbconvert_exporter": "python",
   "pygments_lexer": "ipython3",
   "version": "3.9.16"
  },
  "orig_nbformat": 4
 },
 "nbformat": 4,
 "nbformat_minor": 2
}
