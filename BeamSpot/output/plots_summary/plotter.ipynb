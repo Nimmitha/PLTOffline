{
 "cells": [
  {
   "cell_type": "code",
   "execution_count": 1,
   "id": "ccd9ac4a-7b8c-4980-8cfd-d82a98b7a880",
   "metadata": {},
   "outputs": [
    {
     "name": "stderr",
     "output_type": "stream",
     "text": [
      "/home/karunar/miniconda3/envs/work/lib/python3.9/site-packages/scipy/__init__.py:146: UserWarning: A NumPy version >=1.16.5 and <1.23.0 is required for this version of SciPy (detected version 1.23.5\n",
      "  warnings.warn(f\"A NumPy version >={np_minversion} and <{np_maxversion}\"\n"
     ]
    }
   ],
   "source": [
    "import pandas as pd\n",
    "import matplotlib.pyplot as plt\n",
    "from glob import glob\n",
    "from scipy.stats import stats\n",
    "# import itertools"
   ]
  },
  {
   "cell_type": "code",
   "execution_count": 2,
   "id": "f3a054ec",
   "metadata": {},
   "outputs": [],
   "source": [
    "markers = 30\n",
    "legend_font = 15\n",
    "label_font = 20"
   ]
  },
  {
   "cell_type": "code",
   "execution_count": 3,
   "id": "afd92627-0dd6-438f-8a5b-daf0c6497c71",
   "metadata": {},
   "outputs": [],
   "source": [
    "files = sorted(glob('../results/????.csv'))"
   ]
  },
  {
   "cell_type": "code",
   "execution_count": 4,
   "id": "0c419c35-a6da-4644-a05e-2ca1d7bae6fb",
   "metadata": {},
   "outputs": [
    {
     "name": "stdout",
     "output_type": "stream",
     "text": [
      "Fount files\n",
      "../results/8730.csv\n",
      "../results/8741.csv\n",
      "../results/9050.csv\n",
      "../results/9057.csv\n",
      "../results/9059.csv\n",
      "../results/9063.csv\n",
      "../results/9070.csv\n",
      "../results/9072.csv\n"
     ]
    }
   ],
   "source": [
    "print(\"Fount files\")\n",
    "for file in files:\n",
    "    print(file)"
   ]
  },
  {
   "cell_type": "code",
   "execution_count": 5,
   "id": "b8ae6a32-03b5-4938-9688-1d6274f5a16a",
   "metadata": {},
   "outputs": [],
   "source": [
    "dfs = [pd.read_csv(f, index_col=None) for f in files]\n",
    "df = pd.concat(dfs, axis=0, join='inner', ignore_index=True)\n",
    "df = df.sort_values('mean_sbil')"
   ]
  },
  {
   "cell_type": "code",
   "execution_count": 6,
   "id": "2b85a4ad-3135-41e8-8731-edc9bed84bdc",
   "metadata": {},
   "outputs": [],
   "source": [
    "# df = df[df.ntracks_time > 30000]\n",
    "# # plt.plot(df.ntracks_time, '.')\n",
    "\n",
    "# # drop fills in the list\n",
    "# df = df.drop(df[df.fill.isin([9056])].index)"
   ]
  },
  {
   "cell_type": "code",
   "execution_count": 7,
   "id": "250fc939",
   "metadata": {},
   "outputs": [],
   "source": [
    "fills = sorted(list(set(df['fill'].values)))\n",
    "# fill = fills[1]"
   ]
  },
  {
   "cell_type": "code",
   "execution_count": 8,
   "id": "ae95f2c9",
   "metadata": {},
   "outputs": [],
   "source": [
    "for fill in fills:\n",
    "    ax = plt.gca()\n",
    "    figure = plt.gcf()\n",
    "    # figure, ax = plt.figure(), plt.gca()\n",
    "    figure.set_size_inches(12,7)\n",
    "\n",
    "    for channel in range(8):\n",
    "        color = next(ax._get_lines.prop_cycler)['color']\n",
    "        x = df[(df['channel']==channel) & (df['fill']==fill)].index\n",
    "        y = df[(df['channel']==channel) & (df['fill']==fill)]['BSZ_x']\n",
    "        plt.scatter(x, y, s=30, label=f\"Channel {channel}\")\n",
    "\n",
    "    plt.legend(loc=0, fontsize=legend_font)\n",
    "    plt.grid()\n",
    "    plt.xlabel(\"\\\"Time\\\"\", fontsize=label_font)\n",
    "    plt.ylabel(\"Beamspot X (cm)\", fontsize=label_font)\n",
    "    plt.xticks(fontsize=20)\n",
    "    plt.yticks(fontsize=20)\n",
    "\n",
    "    plt.ylim(-0.25, 0.25)\n",
    "    plt.savefig(f'{fill}_BeamspotX_vs_Time_minus.png', dpi=600)\n",
    "    plt.close()"
   ]
  },
  {
   "cell_type": "code",
   "execution_count": 9,
   "id": "e6eaaeb8",
   "metadata": {},
   "outputs": [],
   "source": [
    "for fill in fills:\n",
    "    ax = plt.gca()\n",
    "    figure = plt.gcf()\n",
    "    figure.set_size_inches(12,7)\n",
    "\n",
    "    for channel in range(8, 16):\n",
    "        color = next(ax._get_lines.prop_cycler)['color']\n",
    "        x = df[(df['channel']==channel) & (df['fill']==fill)].index\n",
    "        y = df[(df['channel']==channel) & (df['fill']==fill)]['BSZ_x']\n",
    "        plt.scatter(x, y, s=30, label=f\"Channel {channel}\")\n",
    "\n",
    "    plt.legend(loc=0, fontsize=legend_font)\n",
    "    plt.grid()\n",
    "    plt.xlabel(\"\\\"Time\\\"\", fontsize=label_font)\n",
    "    plt.ylabel(\"Beamspot X (cm)\", fontsize=label_font)\n",
    "    plt.xticks(fontsize=20)\n",
    "    plt.yticks(fontsize=20)\n",
    "    plt.ylim(-0.25, 0.25)\n",
    "\n",
    "    plt.savefig(f'{fill}_BeamspotX_vs_Time_plus.png', dpi=600)\n",
    "    plt.close('all')"
   ]
  },
  {
   "cell_type": "code",
   "execution_count": 10,
   "id": "c3569e15",
   "metadata": {},
   "outputs": [],
   "source": [
    "for fill in fills:    \n",
    "    ax = plt.gca()\n",
    "    figure = plt.gcf()\n",
    "    figure.set_size_inches(12,7)\n",
    "\n",
    "    for channel in range(8):\n",
    "        color = next(ax._get_lines.prop_cycler)['color']\n",
    "        x = df[(df['channel']==channel) & (df['fill']==fill)].index\n",
    "        y = df[(df['channel']==channel) & (df['fill']==fill)]['BSZ_y']\n",
    "        plt.scatter(x, y, s=30, label=f\"Channel {channel}\")\n",
    "\n",
    "    plt.legend(loc=0, fontsize=legend_font)\n",
    "    plt.grid()\n",
    "    plt.xlabel(\"\\\"Time\\\"\", fontsize=label_font)\n",
    "    plt.ylabel(\"Beamspot Y (cm)\", fontsize=label_font)\n",
    "    plt.xticks(fontsize=20)\n",
    "    plt.yticks(fontsize=20)\n",
    "    plt.ylim(-0.25, 0.25)\n",
    "\n",
    "    plt.savefig(f'{fill}_BeamspotY_vs_Time_minus.png', dpi=600)\n",
    "    plt.close('all')"
   ]
  },
  {
   "cell_type": "code",
   "execution_count": null,
   "id": "0f12d1cf",
   "metadata": {},
   "outputs": [],
   "source": [
    "for fill in fills:\n",
    "    ax = plt.gca()\n",
    "    figure = plt.gcf()\n",
    "    figure.set_size_inches(12,7)\n",
    "\n",
    "    for channel in range(8, 16):\n",
    "        color = next(ax._get_lines.prop_cycler)['color']\n",
    "        x = df[(df['channel']==channel) & (df['fill']==fill)].index\n",
    "        y = df[(df['channel']==channel) & (df['fill']==fill)]['BSZ_y']\n",
    "        plt.scatter(x, y, s=30, label=f\"Channel {channel}\")\n",
    "\n",
    "    plt.legend(loc=0, fontsize=legend_font)\n",
    "    plt.grid()\n",
    "    plt.xlabel(\"\\\"Time\\\"\", fontsize=label_font)\n",
    "    plt.ylabel(\"Beamspot Y (cm)\", fontsize=label_font)\n",
    "    plt.xticks(fontsize=20)\n",
    "    plt.yticks(fontsize=20)\n",
    "    plt.ylim(-0.20, 0.17)\n",
    "\n",
    "    plt.savefig(f'{fill}_BeamspotY_vs_Time_plus.png', dpi=600)\n",
    "    plt.close('all')"
   ]
  },
  {
   "cell_type": "code",
   "execution_count": null,
   "id": "b1370cd9",
   "metadata": {},
   "outputs": [],
   "source": [
    "for fill in fills:\n",
    "    ax = plt.gca()\n",
    "    figure = plt.gcf()\n",
    "    figure.set_size_inches(10, 10)\n",
    "\n",
    "    for channel in range(8):\n",
    "        color = next(ax._get_lines.prop_cycler)['color']\n",
    "        x = df[(df['channel']==channel) & (df['fill']==fill)]['BSZ_x']\n",
    "        y = df[(df['channel']==channel) & (df['fill']==fill)]['BSZ_y']\n",
    "        plt.scatter(x, y, s=30, label=f\"Channel {channel}\")\n",
    "\n",
    "    plt.legend(loc=0, fontsize=legend_font)\n",
    "    plt.grid()\n",
    "    plt.xlabel(\"X (cm)\", fontsize=label_font)\n",
    "    plt.ylabel(\"Y (cm)\", fontsize=label_font)\n",
    "    plt.xticks(fontsize=20)\n",
    "    plt.yticks(fontsize=20)\n",
    "\n",
    "    plt.xlim(-0.25, 0.25)\n",
    "    plt.ylim(-0.25, 0.25)\n",
    "    plt.savefig(f'{fill}_Beamspot_minus.png', dpi=600)\n",
    "    plt.close('all')"
   ]
  },
  {
   "cell_type": "code",
   "execution_count": null,
   "id": "55ffd97d",
   "metadata": {},
   "outputs": [],
   "source": [
    "for fill in fills:\n",
    "    ax = plt.gca()\n",
    "    figure = plt.gcf()\n",
    "    figure.set_size_inches(10, 10)\n",
    "    # reset color cycle\n",
    "    ax.set_prop_cycle(None)\n",
    "\n",
    "    for channel in range(8, 16):\n",
    "        color = next(ax._get_lines.prop_cycler)['color']\n",
    "        x = df[(df['channel']==channel) & (df['fill']==fill)]['BSZ_x']\n",
    "        y = df[(df['channel']==channel) & (df['fill']==fill)]['BSZ_y']\n",
    "        plt.scatter(x, y, s=30, label=f\"Channel {channel}\")\n",
    "\n",
    "    plt.legend(loc=0, fontsize=legend_font)\n",
    "    plt.grid()\n",
    "    plt.xlabel(\"X (cm)\", fontsize=label_font)\n",
    "    plt.ylabel(\"Y (cm)\", fontsize=label_font)\n",
    "    plt.xticks(fontsize=20)\n",
    "    plt.yticks(fontsize=20)\n",
    "\n",
    "    plt.xlim(-0.25, 0.25)\n",
    "    plt.ylim(-0.25, 0.25)\n",
    "    plt.savefig(f'{fill}_Beamspot_plus.png', dpi=600)\n",
    "    # plt.close()\n",
    "    # close figure and axes\n",
    "    plt.close('all')"
   ]
  },
  {
   "cell_type": "code",
   "execution_count": null,
   "id": "92b2bf40",
   "metadata": {},
   "outputs": [],
   "source": []
  },
  {
   "cell_type": "code",
   "execution_count": null,
   "id": "fd290577",
   "metadata": {},
   "outputs": [],
   "source": []
  },
  {
   "cell_type": "code",
   "execution_count": null,
   "id": "c67efcfb",
   "metadata": {},
   "outputs": [],
   "source": []
  }
 ],
 "metadata": {
  "kernelspec": {
   "display_name": "Python 3 (ipykernel)",
   "language": "python",
   "name": "python3"
  },
  "language_info": {
   "codemirror_mode": {
    "name": "ipython",
    "version": 3
   },
   "file_extension": ".py",
   "mimetype": "text/x-python",
   "name": "python",
   "nbconvert_exporter": "python",
   "pygments_lexer": "ipython3",
   "version": "3.9.16"
  }
 },
 "nbformat": 4,
 "nbformat_minor": 5
}
